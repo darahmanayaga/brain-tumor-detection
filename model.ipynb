{
 "cells": [
  {
   "cell_type": "code",
   "execution_count": 1,
   "metadata": {},
   "outputs": [
    {
     "name": "stdout",
     "output_type": "stream",
     "text": [
      "2.14.0\n"
     ]
    }
   ],
   "source": [
    "# Import necessary libraries\n",
    "\n",
    "import tensorflow as tf\n",
    "from tensorflow.keras.models import Sequential\n",
    "from tensorflow.keras.layers import Conv2D, MaxPooling2D, Flatten, Dense, Dropout\n",
    "from tensorflow.keras.preprocessing.image import ImageDataGenerator\n",
    "from tensorflow.keras.callbacks import EarlyStopping\n",
    "\n",
    "# Check TensorFlow version\n",
    "print(tf.__version__)"
   ]
  },
  {
   "cell_type": "code",
   "execution_count": 4,
   "metadata": {},
   "outputs": [],
   "source": [
    "# Set datasets\n",
    "\n",
    "train_data = 'dataset/Training'\n",
    "test_data = 'dataset/Testing'"
   ]
  },
  {
   "cell_type": "markdown",
   "metadata": {},
   "source": [
    "### Define image data generators\n",
    "\n",
    "**rescale=1./255:**\n",
    "\n",
    "- **Purpose**: This rescales the pixel values of the images from a range of [0, 255] to [0, 1].\n",
    "- **Reason**: Neural networks perform better when input data is normalized. Scaling the pixel values to this range helps in faster convergence during training.\n",
    "\n",
    "**rotation_range=40:**\n",
    "\n",
    "- **Purpose**: Randomly rotates images within a range of 0 to 40 degrees.\n",
    "- **Reason**: Rotation helps the model become invariant to the orientation of the images, making it more robust to variations in the dataset.\n",
    "\n",
    "**width_shift_range=0.2:**\n",
    "\n",
    "- **Purpose**: Shifts the image horizontally by up to 20% of the width.\n",
    "- **Reason**: Horizontal shifts help the model to learn that objects can appear in different horizontal positions, enhancing its generalization capability.\n",
    "\n",
    "**height_shift_range=0.2:**\n",
    "\n",
    "- **Purpose**: Shifts the image vertically by up to 20% of the height.\n",
    "- **Reason**: Vertical shifts serve the same purpose as horizontal shifts but in the vertical direction, improving the model's robustness to vertical translations.\n",
    "\n",
    "**shear_range=0.2:**\n",
    "\n",
    "- **Purpose**: Applies a shear transformation to the images, up to 20%.\n",
    "- **Reason**: Shearing distorts the image along an axis, helping the model handle slight distortions or slanting of the objects within the images.\n",
    "\n",
    "**zoom_range=0.2:**\n",
    "\n",
    "- **Purpose**: Randomly zooms into the images by up to 20%.\n",
    "- **Reason**: Zooming helps the model become invariant to the scale of the objects in the images, allowing it to detect objects at different zoom levels.\n",
    "\n",
    "**horizontal_flip=True:**\n",
    "\n",
    "- **Purpose**: Randomly flips the images horizontally.\n",
    "- **Reason**: Horizontal flipping augments the dataset by generating mirrored versions of the images, which helps the model learn that objects can appear mirrored.\n",
    "\n",
    "**fill_mode='nearest':**\n",
    "\n",
    "- **Purpose**: Specifies the strategy for filling in new pixels that may be created during transformations (e.g., after rotation or shifts).\n",
    "- **Reason**: 'nearest' mode fills in the new pixels with the nearest pixel value, which helps maintain the integrity of the image after augmentation.\n"
   ]
  },
  {
   "cell_type": "code",
   "execution_count": 6,
   "metadata": {},
   "outputs": [],
   "source": [
    "# Define image data generators\n",
    "\n",
    "train_datagen = ImageDataGenerator(rescale=1./255,\n",
    "                                   rotation_range=40, \n",
    "                                   width_shift_range=0.2,\n",
    "                                   height_shift_range=0.2,\n",
    "                                   shear_range=0.2,\n",
    "                                   zoom_range=0.2,\n",
    "                                   horizontal_flip=True,\n",
    "                                   fill_mode='nearest')"
   ]
  },
  {
   "cell_type": "code",
   "execution_count": 7,
   "metadata": {},
   "outputs": [],
   "source": [
    "test_datagen = ImageDataGenerator(rescale=1./255)"
   ]
  }
 ],
 "metadata": {
  "kernelspec": {
   "display_name": "Python 3",
   "language": "python",
   "name": "python3"
  },
  "language_info": {
   "codemirror_mode": {
    "name": "ipython",
    "version": 3
   },
   "file_extension": ".py",
   "mimetype": "text/x-python",
   "name": "python",
   "nbconvert_exporter": "python",
   "pygments_lexer": "ipython3",
   "version": "3.11.6"
  }
 },
 "nbformat": 4,
 "nbformat_minor": 2
}
