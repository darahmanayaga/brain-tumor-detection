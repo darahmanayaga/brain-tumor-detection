{
 "cells": [
  {
   "cell_type": "code",
   "execution_count": 1,
   "metadata": {},
   "outputs": [
    {
     "name": "stdout",
     "output_type": "stream",
     "text": [
      "2.14.0\n"
     ]
    }
   ],
   "source": [
    "# Import necessary libraries\n",
    "\n",
    "import tensorflow as tf\n",
    "from tensorflow.keras.models import Sequential\n",
    "from tensorflow.keras.layers import Conv2D, MaxPooling2D, Flatten, Dense, Dropout\n",
    "from tensorflow.keras.preprocessing.image import ImageDataGenerator\n",
    "from tensorflow.keras.callbacks import EarlyStopping\n",
    "\n",
    "# Check TensorFlow version\n",
    "print(tf.__version__)"
   ]
  },
  {
   "cell_type": "code",
   "execution_count": 4,
   "metadata": {},
   "outputs": [],
   "source": [
    "# Set datasets\n",
    "\n",
    "train_data = 'dataset/Training'\n",
    "test_data = 'dataset/Testing'"
   ]
  },
  {
   "cell_type": "markdown",
   "metadata": {},
   "source": [
    "### Define image data generators\n",
    "\n",
    "**rescale=1./255:**\n",
    "\n",
    "- **Purpose**: This rescales the pixel values of the images from a range of [0, 255] to [0, 1].\n",
    "- **Reason**: Neural networks perform better when input data is normalized. Scaling the pixel values to this range helps in faster convergence during training.\n",
    "\n",
    "**rotation_range=40:**\n",
    "\n",
    "- **Purpose**: Randomly rotates images within a range of 0 to 40 degrees.\n",
    "- **Reason**: Rotation helps the model become invariant to the orientation of the images, making it more robust to variations in the dataset.\n",
    "\n",
    "**width_shift_range=0.2:**\n",
    "\n",
    "- **Purpose**: Shifts the image horizontally by up to 20% of the width.\n",
    "- **Reason**: Horizontal shifts help the model to learn that objects can appear in different horizontal positions, enhancing its generalization capability.\n",
    "\n",
    "**height_shift_range=0.2:**\n",
    "\n",
    "- **Purpose**: Shifts the image vertically by up to 20% of the height.\n",
    "- **Reason**: Vertical shifts serve the same purpose as horizontal shifts but in the vertical direction, improving the model's robustness to vertical translations.\n",
    "\n",
    "**shear_range=0.2:**\n",
    "\n",
    "- **Purpose**: Applies a shear transformation to the images, up to 20%.\n",
    "- **Reason**: Shearing distorts the image along an axis, helping the model handle slight distortions or slanting of the objects within the images.\n",
    "\n",
    "**zoom_range=0.2:**\n",
    "\n",
    "- **Purpose**: Randomly zooms into the images by up to 20%.\n",
    "- **Reason**: Zooming helps the model become invariant to the scale of the objects in the images, allowing it to detect objects at different zoom levels.\n",
    "\n",
    "**horizontal_flip=True:**\n",
    "\n",
    "- **Purpose**: Randomly flips the images horizontally.\n",
    "- **Reason**: Horizontal flipping augments the dataset by generating mirrored versions of the images, which helps the model learn that objects can appear mirrored.\n",
    "\n",
    "**fill_mode='nearest':**\n",
    "\n",
    "- **Purpose**: Specifies the strategy for filling in new pixels that may be created during transformations (e.g., after rotation or shifts).\n",
    "- **Reason**: 'nearest' mode fills in the new pixels with the nearest pixel value, which helps maintain the integrity of the image after augmentation.\n"
   ]
  },
  {
   "cell_type": "code",
   "execution_count": 21,
   "metadata": {},
   "outputs": [],
   "source": [
    "# Define image data generators\n",
    "\n",
    "train_datagen = ImageDataGenerator(rescale=1./255,\n",
    "                                   rotation_range=40, \n",
    "                                   width_shift_range=0.2,\n",
    "                                   height_shift_range=0.2,\n",
    "                                   shear_range=0.2,\n",
    "                                   zoom_range=0.2,\n",
    "                                   horizontal_flip=True,\n",
    "                                   fill_mode='nearest')"
   ]
  },
  {
   "cell_type": "code",
   "execution_count": 22,
   "metadata": {},
   "outputs": [],
   "source": [
    "test_datagen = ImageDataGenerator(rescale=1./255)"
   ]
  },
  {
   "cell_type": "markdown",
   "metadata": {},
   "source": [
    "### Create generators\n",
    "\n",
    "\n",
    "**train_generator = train_datagen.flow_from_directory(...):**\n",
    "\n",
    "**train_dir:**\n",
    "\n",
    "- **Purpose**: Specifies the path to the directory containing the training images organized in subdirectories by class.\n",
    "\n",
    "**target_size=(150,150):**\n",
    "\n",
    "- **Purpose**: Resizes all images to the specified dimensions (150 pixels by 150 pixels).\n",
    "\n",
    "**batch_size=32:**\n",
    "\n",
    "- **Purpose**: Specifies the number of images to be yielded from the generator per batch\n",
    "\n",
    "**class_mode='categorical':**\n",
    "\n",
    "- **Purpose**: Specifies the type of label arrays to be returned. 'categorical' indicates that the labels are one-hot encoded (e.g., [1, 0, 0, 0] for class 0 in a 4-class problem).\n",
    "\n",
    "This is also same as the `test_generator`"
   ]
  },
  {
   "cell_type": "code",
   "execution_count": 23,
   "metadata": {},
   "outputs": [
    {
     "name": "stdout",
     "output_type": "stream",
     "text": [
      "Found 2870 images belonging to 4 classes.\n"
     ]
    }
   ],
   "source": [
    "train_generator = train_datagen.flow_from_directory(\n",
    "    train_data,\n",
    "    target_size=(150, 150),\n",
    "    batch_size=32,\n",
    "    class_mode='categorical')"
   ]
  },
  {
   "cell_type": "code",
   "execution_count": 24,
   "metadata": {},
   "outputs": [
    {
     "name": "stdout",
     "output_type": "stream",
     "text": [
      "Found 394 images belonging to 4 classes.\n"
     ]
    }
   ],
   "source": [
    "test_generator = test_datagen.flow_from_directory(\n",
    "    test_data,\n",
    "    target_size=(150, 150),\n",
    "    batch_size=32,\n",
    "    class_mode='categorical')"
   ]
  },
  {
   "cell_type": "markdown",
   "metadata": {},
   "source": [
    "### Defining the CNN model"
   ]
  },
  {
   "cell_type": "code",
   "execution_count": 25,
   "metadata": {},
   "outputs": [
    {
     "name": "stdout",
     "output_type": "stream",
     "text": [
      "Model: \"sequential_2\"\n",
      "_________________________________________________________________\n",
      " Layer (type)                Output Shape              Param #   \n",
      "=================================================================\n",
      " conv2d_8 (Conv2D)           (None, 148, 148, 32)      896       \n",
      "                                                                 \n",
      " max_pooling2d_8 (MaxPoolin  (None, 74, 74, 32)        0         \n",
      " g2D)                                                            \n",
      "                                                                 \n",
      " conv2d_9 (Conv2D)           (None, 72, 72, 64)        18496     \n",
      "                                                                 \n",
      " max_pooling2d_9 (MaxPoolin  (None, 36, 36, 64)        0         \n",
      " g2D)                                                            \n",
      "                                                                 \n",
      " conv2d_10 (Conv2D)          (None, 34, 34, 128)       73856     \n",
      "                                                                 \n",
      " max_pooling2d_10 (MaxPooli  (None, 17, 17, 128)       0         \n",
      " ng2D)                                                           \n",
      "                                                                 \n",
      " conv2d_11 (Conv2D)          (None, 15, 15, 128)       147584    \n",
      "                                                                 \n",
      " max_pooling2d_11 (MaxPooli  (None, 7, 7, 128)         0         \n",
      " ng2D)                                                           \n",
      "                                                                 \n",
      " flatten_2 (Flatten)         (None, 6272)              0         \n",
      "                                                                 \n",
      " dense_4 (Dense)             (None, 512)               3211776   \n",
      "                                                                 \n",
      " dropout_2 (Dropout)         (None, 512)               0         \n",
      "                                                                 \n",
      " dense_5 (Dense)             (None, 4)                 2052      \n",
      "                                                                 \n",
      "=================================================================\n",
      "Total params: 3454660 (13.18 MB)\n",
      "Trainable params: 3454660 (13.18 MB)\n",
      "Non-trainable params: 0 (0.00 Byte)\n",
      "_________________________________________________________________\n"
     ]
    }
   ],
   "source": [
    "model = Sequential([\n",
    "    Conv2D(32, (3, 3), activation='relu', input_shape=(150, 150, 3)),\n",
    "    MaxPooling2D(2, 2),\n",
    "    Conv2D(64, (3, 3), activation='relu'),\n",
    "    MaxPooling2D(2, 2),\n",
    "    Conv2D(128, (3, 3), activation='relu'),\n",
    "    MaxPooling2D(2, 2),\n",
    "    Conv2D(128, (3, 3), activation='relu'),\n",
    "    MaxPooling2D(2, 2),\n",
    "    Flatten(),\n",
    "    Dense(512, activation='relu'),\n",
    "    Dropout(0.5),\n",
    "    Dense(4, activation='softmax')  # Change here for 4 classes\n",
    "])\n",
    "\n",
    "model.compile(loss='categorical_crossentropy',\n",
    "              optimizer=tf.keras.optimizers.Adam(),\n",
    "              metrics=['accuracy'])\n",
    "\n",
    "model.summary()\n"
   ]
  },
  {
   "cell_type": "markdown",
   "metadata": {},
   "source": [
    "### Training the model"
   ]
  },
  {
   "cell_type": "code",
   "execution_count": 26,
   "metadata": {},
   "outputs": [
    {
     "name": "stdout",
     "output_type": "stream",
     "text": [
      "Epoch 1/30\n",
      "89/89 [==============================] - 53s 584ms/step - loss: 1.3028 - accuracy: 0.3643 - val_loss: 1.4568 - val_accuracy: 0.1458\n",
      "Epoch 2/30\n",
      "89/89 [==============================] - 49s 549ms/step - loss: 1.2033 - accuracy: 0.4454 - val_loss: 1.6517 - val_accuracy: 0.2734\n",
      "Epoch 3/30\n",
      "89/89 [==============================] - 49s 553ms/step - loss: 1.0452 - accuracy: 0.5444 - val_loss: 2.0963 - val_accuracy: 0.2604\n",
      "Epoch 4/30\n",
      "89/89 [==============================] - 49s 550ms/step - loss: 0.9897 - accuracy: 0.5638 - val_loss: 2.5457 - val_accuracy: 0.3203\n",
      "Epoch 5/30\n",
      "89/89 [==============================] - 49s 547ms/step - loss: 0.9253 - accuracy: 0.5980 - val_loss: 2.6036 - val_accuracy: 0.2526\n",
      "Epoch 6/30\n",
      "89/89 [==============================] - 51s 574ms/step - loss: 0.8841 - accuracy: 0.6209 - val_loss: 2.2432 - val_accuracy: 0.3776\n"
     ]
    }
   ],
   "source": [
    "# Define early stopping callback\n",
    "early_stopping = EarlyStopping(monitor='val_loss', patience=5, restore_best_weights=True)\n",
    "\n",
    "history = model.fit(\n",
    "    train_generator,\n",
    "    steps_per_epoch=train_generator.samples // train_generator.batch_size,\n",
    "    epochs=30,\n",
    "    validation_data=test_generator,\n",
    "    validation_steps=test_generator.samples // test_generator.batch_size,\n",
    "    callbacks=[early_stopping]\n",
    ")\n"
   ]
  },
  {
   "cell_type": "markdown",
   "metadata": {},
   "source": [
    "### Evaluate the model"
   ]
  },
  {
   "cell_type": "code",
   "execution_count": 27,
   "metadata": {},
   "outputs": [
    {
     "name": "stdout",
     "output_type": "stream",
     "text": [
      "13/13 [==============================] - 1s 111ms/step - loss: 1.4593 - accuracy: 0.1472\n",
      "Test accuracy: 14.72%\n"
     ]
    }
   ],
   "source": [
    "loss, accuracy = model.evaluate(test_generator)\n",
    "print(f'Test accuracy: {accuracy * 100:.2f}%')"
   ]
  },
  {
   "cell_type": "code",
   "execution_count": 13,
   "metadata": {},
   "outputs": [
    {
     "name": "stderr",
     "output_type": "stream",
     "text": [
      "C:\\Users\\Angel\\AppData\\Roaming\\Python\\Python311\\site-packages\\keras\\src\\engine\\training.py:3079: UserWarning: You are saving your model as an HDF5 file via `model.save()`. This file format is considered legacy. We recommend using instead the native Keras format, e.g. `model.save('my_model.keras')`.\n",
      "  saving_api.save_model(\n"
     ]
    }
   ],
   "source": [
    "# Save the model\n",
    "model.save('tumor_detection_model.h5')"
   ]
  }
 ],
 "metadata": {
  "kernelspec": {
   "display_name": "Python 3",
   "language": "python",
   "name": "python3"
  },
  "language_info": {
   "codemirror_mode": {
    "name": "ipython",
    "version": 3
   },
   "file_extension": ".py",
   "mimetype": "text/x-python",
   "name": "python",
   "nbconvert_exporter": "python",
   "pygments_lexer": "ipython3",
   "version": "3.11.6"
  }
 },
 "nbformat": 4,
 "nbformat_minor": 2
}
